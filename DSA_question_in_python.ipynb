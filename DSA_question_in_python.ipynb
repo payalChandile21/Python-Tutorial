{
  "nbformat": 4,
  "nbformat_minor": 0,
  "metadata": {
    "colab": {
      "provenance": []
    },
    "kernelspec": {
      "name": "python3",
      "display_name": "Python 3"
    },
    "language_info": {
      "name": "python"
    }
  },
  "cells": [
    {
      "cell_type": "markdown",
      "source": [
        "DSA Questions in Python"
      ],
      "metadata": {
        "id": "VeLg9SNm0Zaz"
      }
    },
    {
      "cell_type": "code",
      "execution_count": null,
      "metadata": {
        "colab": {
          "base_uri": "https://localhost:8080/"
        },
        "id": "148Adcuk0YOc",
        "outputId": "d82f67ea-1547-450c-ad9f-37282b940b34"
      },
      "outputs": [
        {
          "output_type": "stream",
          "name": "stdout",
          "text": [
            "Enter First Number45\n",
            "Enter second Number56\n",
            "0.804\n"
          ]
        }
      ],
      "source": [
        "# You are given two floating numbers a and b. You need to output a/b and decimal precision of a/b upto 3 places after decimal point use round function\n",
        "\n",
        "a= float(input(\"Enter First Number\"))\n",
        "b= float(input(\"Enter second Number\"))\n",
        "print(round(a/b, 3))\n"
      ]
    },
    {
      "cell_type": "code",
      "source": [
        "# Swap Number in python\n",
        "\n",
        "a = int(input(\"Enter a = \"))\n",
        "b = int(input(\"Enter b = \"))\n",
        "temp = a\n",
        "a = b\n",
        "b = temp\n",
        "print(\"After swapping, a = \", a)\n",
        "print(\"After swapping, b = \", b)\n",
        "\n"
      ],
      "metadata": {
        "colab": {
          "base_uri": "https://localhost:8080/"
        },
        "id": "RfrkDH-c0hMp",
        "outputId": "974a7d03-2067-4319-a82b-098c0d23c559"
      },
      "execution_count": null,
      "outputs": [
        {
          "output_type": "stream",
          "name": "stdout",
          "text": [
            "Enter a = 45\n",
            "Enter b = 67\n",
            "After swapping, a =  67\n",
            "After swapping, b =  45\n"
          ]
        }
      ]
    },
    {
      "cell_type": "markdown",
      "source": [
        "Sum of N Numbers"
      ],
      "metadata": {
        "id": "b_xI2Fc34evp"
      }
    },
    {
      "cell_type": "code",
      "source": [
        "# Input: N = 10 Output:  55 Explanation: 1 + 2 + 3 + 4 + 5 + 6 + 7 + 8 + 9 + 10 = 55.\n",
        "\n",
        "n = int(input(\"Enter the value of n:\"))\n",
        "sum = 0\n",
        "sum=(n*(n+1))/2          #n=10 , 10*(10+1)/2 = 110/2 = 15\n",
        "print(sum)\n"
      ],
      "metadata": {
        "colab": {
          "base_uri": "https://localhost:8080/"
        },
        "id": "mG57hDfb273b",
        "outputId": "4e78e213-148d-493a-812e-a5fbc48e13f6"
      },
      "execution_count": 1,
      "outputs": [
        {
          "output_type": "stream",
          "name": "stdout",
          "text": [
            "Enter the value of n:10\n",
            "55.0\n"
          ]
        }
      ]
    },
    {
      "cell_type": "code",
      "source": [
        "# Bitwise operator in python\n",
        "\n",
        "a = 10\n",
        "b = 5\n",
        "print(a & b)        # AND operator\n",
        "print(a | b)        # OR operator\n",
        "print(a ^ b)        # XOR operator\n",
        "print(~a)          # NOT operator\n",
        "print(a << 2)       # left shift operator     0000 1010         (0010 1000)   4\n",
        "print(a >> 2)       # right shift operator\n"
      ],
      "metadata": {
        "colab": {
          "base_uri": "https://localhost:8080/"
        },
        "id": "-2mUmeZA3qRh",
        "outputId": "865f2ed3-61af-420c-ee2d-d62771012d73"
      },
      "execution_count": null,
      "outputs": [
        {
          "output_type": "stream",
          "name": "stdout",
          "text": [
            "0\n",
            "15\n",
            "15\n",
            "-11\n",
            "40\n",
            "2\n"
          ]
        }
      ]
    },
    {
      "cell_type": "markdown",
      "source": [
        "Day Before N days   Given two integers d and n. Where d is the day, out of 7 days of the week, d varies from 0 to 6 as shown below.\n",
        "\n",
        "0 - Sunday\n",
        "\n",
        "1 - Monday\n",
        "\n",
        "2 - Tuesday\n",
        "\n",
        "3 - Wednesday\n",
        "\n",
        "4 - Thursday\n",
        "\n",
        "5 - Friday\n",
        "\n",
        "6 - Saturday"
      ],
      "metadata": {
        "id": "rfMhhEHrjrhv"
      }
    },
    {
      "cell_type": "code",
      "source": [
        "\n",
        "n = int(input(\"Enter the value of n:\"))\n",
        "d = int(input(\"Enter the number of Days:\"))\n",
        "x=n%7\n",
        "ans=d-x\n",
        "if ans>=0:\n",
        "  print(ans)\n",
        "else:\n",
        "  print(ans+7)\n"
      ],
      "metadata": {
        "id": "zzqHunkP5pNz",
        "colab": {
          "base_uri": "https://localhost:8080/"
        },
        "outputId": "707463b2-2484-40f8-dea3-e22add0f22b0"
      },
      "execution_count": null,
      "outputs": [
        {
          "output_type": "stream",
          "name": "stdout",
          "text": [
            "Enter the value of n:5\n",
            "Enter the number of Days:3\n",
            "5\n"
          ]
        }
      ]
    },
    {
      "cell_type": "markdown",
      "source": [
        "Last Digits of Number"
      ],
      "metadata": {
        "id": "INKlt1vEj1MI"
      }
    },
    {
      "cell_type": "code",
      "source": [
        "n=int(input(\"Enter Number: \"))\n",
        "if n<0:\n",
        "  n=(-1)*n\n",
        "  print(n%10)\n",
        "else:\n",
        "  print(n%10)"
      ],
      "metadata": {
        "colab": {
          "base_uri": "https://localhost:8080/"
        },
        "id": "iwF9BZHpjRKU",
        "outputId": "13b8c9dd-fc38-43af-f5fd-e6b3991a7015"
      },
      "execution_count": null,
      "outputs": [
        {
          "output_type": "stream",
          "name": "stdout",
          "text": [
            "Enter Number: 12\n",
            "2\n"
          ]
        }
      ]
    },
    {
      "cell_type": "code",
      "source": [
        "# AP term program\n",
        "\n",
        "a=int(input(\"Enter the first term of AP:\"))\n",
        "d=int(input(\"Enter the common difference of AP:\"))\n",
        "n=int(input(\"Enter the number of terms in AP:\"))\n",
        "print(\"The AP is:\")\n",
        "for i in range(1,n+1):\n",
        "    term=a+(i-1)*d\n",
        "    print(term,end=\" \")\n"
      ],
      "metadata": {
        "colab": {
          "base_uri": "https://localhost:8080/"
        },
        "id": "ped4o8Avlumr",
        "outputId": "b7da9d80-6e5f-46a4-c788-a328edd9a4fb"
      },
      "execution_count": null,
      "outputs": [
        {
          "output_type": "stream",
          "name": "stdout",
          "text": [
            "Enter the first term of AP:5\n",
            "Enter the common difference of AP:2\n",
            "Enter the number of terms in AP:7\n",
            "The AP is:\n",
            "5 7 9 11 13 15 17 "
          ]
        }
      ]
    },
    {
      "cell_type": "markdown",
      "source": [
        "Count Number of Digits"
      ],
      "metadata": {
        "id": "nPnyB1Olo3OD"
      }
    },
    {
      "cell_type": "code",
      "source": [
        "#  count digits\n",
        "\n",
        "n = int(input(\"Enter a number: \"))\n",
        "count = 0\n",
        "while n > 0:\n",
        "  n = n // 10\n",
        "  count += 1\n",
        "print(count)\n"
      ],
      "metadata": {
        "colab": {
          "base_uri": "https://localhost:8080/"
        },
        "id": "2Ic_mi-HuCDw",
        "outputId": "f241b902-7a38-4923-b398-5a6716aa0c4d"
      },
      "execution_count": null,
      "outputs": [
        {
          "output_type": "stream",
          "name": "stdout",
          "text": [
            "Enter a number: 5674\n",
            "4\n"
          ]
        }
      ]
    },
    {
      "cell_type": "code",
      "source": [
        "#Table of n\n",
        "\n",
        "i=1\n",
        "n=5\n",
        "while(i<=10):\n",
        "  print(n*i)\n",
        "  i=i+1\n",
        "\n"
      ],
      "metadata": {
        "id": "-jt5OL1iNZfp",
        "colab": {
          "base_uri": "https://localhost:8080/"
        },
        "outputId": "49efcbaf-6c52-4060-dd7e-41de3c4a71df"
      },
      "execution_count": 2,
      "outputs": [
        {
          "output_type": "stream",
          "name": "stdout",
          "text": [
            "5\n",
            "10\n",
            "15\n",
            "20\n",
            "25\n",
            "30\n",
            "35\n",
            "40\n",
            "45\n",
            "50\n"
          ]
        }
      ]
    },
    {
      "cell_type": "code",
      "source": [
        "def equilibrium_point(nums):\n",
        "  \"\"\"\n",
        "  Finds the equilibrium point in nums.\n",
        "\n",
        "  Args:\n",
        "    nums: A list of numbers.\n",
        "\n",
        "  Returns:\n",
        "    The index of the equilibrium point, or -1 if there is no equilibrium point.\n",
        "  \"\"\"\n",
        "\n",
        "  left_sum = 0\n",
        "  for i in range(len(nums)):\n",
        "    left_sum += nums[i]\n",
        "\n",
        "  right_sum = 0\n",
        "  for i in range(len(nums) - 1, -1, -1):\n",
        "    right_sum += nums[i]\n",
        "\n",
        "    if left_sum == right_sum:\n",
        "      return i\n",
        "\n",
        "  return -1\n",
        "\n",
        "nums = [-7, 1, 5, 2, -4, 3, 0]\n",
        "\n",
        "equilibrium_index = equilibrium_point(nums)\n",
        "\n",
        "if equilibrium_index != -1:\n",
        "  print(\"The equilibrium point is\", equilibrium_index)\n",
        "else:\n",
        "  print(\"There is no equilibrium point\")\n"
      ],
      "metadata": {
        "colab": {
          "base_uri": "https://localhost:8080/"
        },
        "id": "og0QoeRUOKEx",
        "outputId": "4f8cf80b-03a2-4fe0-e1f6-e06537f337b1"
      },
      "execution_count": 3,
      "outputs": [
        {
          "output_type": "stream",
          "name": "stdout",
          "text": [
            "The equilibrium point is 6\n"
          ]
        }
      ]
    },
    {
      "cell_type": "code",
      "source": [],
      "metadata": {
        "id": "r3T6vISkORut"
      },
      "execution_count": null,
      "outputs": []
    }
  ]
}