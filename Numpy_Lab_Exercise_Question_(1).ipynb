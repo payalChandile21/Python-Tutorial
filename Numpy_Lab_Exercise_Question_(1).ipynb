{
  "cells": [
    {
      "cell_type": "markdown",
      "metadata": {
        "id": "SZOpFviKx7GR"
      },
      "source": [
        "# NumPy Lab Exercises\n",
        "\n",
        "Solve the following questions"
      ]
    },
    {
      "cell_type": "markdown",
      "metadata": {
        "id": "LkpmQPISx7GS"
      },
      "source": [
        "#### Import NumPy package as np"
      ]
    },
    {
      "cell_type": "code",
      "execution_count": null,
      "metadata": {
        "collapsed": true,
        "id": "K3Lh1C7rx7GT"
      },
      "outputs": [],
      "source": [
        "import numpy as np"
      ]
    },
    {
      "cell_type": "markdown",
      "metadata": {
        "id": "m6L2gL1-x7GT"
      },
      "source": [
        "#### Create an empty array of 20 0's and replace the 4th object with the number 5"
      ]
    },
    {
      "cell_type": "code",
      "execution_count": null,
      "metadata": {
        "id": "xPT0vzmSx7GU",
        "outputId": "ce01c603-f78a-4ad8-d246-f4ea760abb1f"
      },
      "outputs": [
        {
          "data": {
            "text/plain": [
              "array([ 0.,  0.,  0.,  5.,  0.,  0.,  0.,  0.,  0.,  0.,  0.,  0.,  0.,\n",
              "        0.,  0.,  0.,  0.,  0.,  0.,  0.])"
            ]
          },
          "execution_count": 2,
          "metadata": {},
          "output_type": "execute_result"
        }
      ],
      "source": [
        "a = np.zeros(20)\n",
        "\n",
        "a[3]=5\n",
        "\n",
        "a"
      ]
    },
    {
      "cell_type": "markdown",
      "metadata": {
        "id": "uA_oM7Lxx7GU"
      },
      "source": [
        "#### Create an array of 20 1's and store it as a variable named array_master. Copy the same array into another variable named array_copy"
      ]
    },
    {
      "cell_type": "code",
      "execution_count": null,
      "metadata": {
        "id": "UYr3pvOpx7GV",
        "outputId": "ee4cfd02-1b06-4091-f09a-5eef2d91fc02"
      },
      "outputs": [
        {
          "data": {
            "text/plain": [
              "array([ 1.,  1.,  1.,  1.,  1.,  1.,  1.,  1.,  1.,  1.,  1.,  1.,  1.,\n",
              "        1.,  1.,  1.,  1.,  1.,  1.,  1.])"
            ]
          },
          "execution_count": 3,
          "metadata": {},
          "output_type": "execute_result"
        }
      ],
      "source": [
        "array_master = np.ones(20)\n",
        "\n",
        "array_copy = array_master.copy()\n",
        "\n",
        "array_copy"
      ]
    },
    {
      "cell_type": "markdown",
      "metadata": {
        "id": "tMGr8xMmx7GV"
      },
      "source": [
        "#### Create an array containing 30 1's and broadcast all the one's to the value 100"
      ]
    },
    {
      "cell_type": "code",
      "execution_count": null,
      "metadata": {
        "id": "j26lXAxtx7GV",
        "outputId": "0738da7c-4b69-4266-8add-38d7373d1003"
      },
      "outputs": [
        {
          "data": {
            "text/plain": [
              "array([ 100.,  100.,  100.,  100.,  100.,  100.,  100.,  100.,  100.,\n",
              "        100.,  100.,  100.,  100.,  100.,  100.,  100.,  100.,  100.,\n",
              "        100.,  100.,  100.,  100.,  100.,  100.,  100.,  100.,  100.,\n",
              "        100.,  100.,  100.])"
            ]
          },
          "execution_count": 4,
          "metadata": {},
          "output_type": "execute_result"
        }
      ],
      "source": [
        "array = np.ones(30)\n",
        "\n",
        "array[:] = 100\n",
        "\n",
        "array"
      ]
    },
    {
      "cell_type": "markdown",
      "metadata": {
        "id": "MyxM9zaIx7GV"
      },
      "source": [
        "#### Create an array of integers starting from 21 until 31 and name it as array1\n",
        "\n",
        "#### Create an array of integers starting from 11 until 21 and name it array2\n",
        "\n",
        "#### Calculate the difference between array1 and array2"
      ]
    },
    {
      "cell_type": "code",
      "execution_count": null,
      "metadata": {
        "id": "r-huBiD8x7GW",
        "outputId": "916996bd-643f-4aba-8685-980f8e0f9444"
      },
      "outputs": [
        {
          "data": {
            "text/plain": [
              "array([10, 10, 10, 10, 10, 10, 10, 10, 10, 10, 10])"
            ]
          },
          "execution_count": 5,
          "metadata": {},
          "output_type": "execute_result"
        }
      ],
      "source": [
        "array1 = np.arange(21,32)\n",
        "\n",
        "array2 = np.arange(11,22)\n",
        "\n",
        "array1 - array2"
      ]
    },
    {
      "cell_type": "markdown",
      "metadata": {
        "id": "1ht-4mdLx7GW"
      },
      "source": [
        "#### Create an array of all even integers from 2 to 10 and name it a1\n",
        "\n",
        "#### Create an array of all even integers from 22 to 30 and name it a2\n",
        "\n",
        "####  a) Use the 2 arrays as rows and create a matrix [ Hint - Use stack function from numpy ]"
      ]
    },
    {
      "cell_type": "code",
      "execution_count": null,
      "metadata": {
        "id": "r2TjnGndx7GW",
        "outputId": "5b1eb20d-2360-4d51-e5bd-ab8bdda9ea32"
      },
      "outputs": [
        {
          "data": {
            "text/plain": [
              "array([[ 2,  4,  6,  8, 10],\n",
              "       [22, 24, 26, 28, 30]])"
            ]
          },
          "execution_count": 9,
          "metadata": {},
          "output_type": "execute_result"
        }
      ],
      "source": [
        "a1 = np.arange(2,11,2)\n",
        "\n",
        "a2 = np.arange(22,31,2)\n",
        "\n",
        "np.stack((a1,a2))"
      ]
    },
    {
      "cell_type": "markdown",
      "metadata": {
        "id": "i3cySDCQx7GX"
      },
      "source": [
        "####  b) Use the 2 arrays as columns and create a matrix [ Hint - Use column_stack function from numpy ]"
      ]
    },
    {
      "cell_type": "code",
      "execution_count": null,
      "metadata": {
        "id": "EP7OMi8nx7GX",
        "outputId": "4f29026c-1aec-4da5-bc90-84c6588ae32f"
      },
      "outputs": [
        {
          "data": {
            "text/plain": [
              "array([[ 2, 22],\n",
              "       [ 4, 24],\n",
              "       [ 6, 26],\n",
              "       [ 8, 28],\n",
              "       [10, 30]])"
            ]
          },
          "execution_count": 10,
          "metadata": {},
          "output_type": "execute_result"
        }
      ],
      "source": [
        "np.column_stack((a1,a2))"
      ]
    },
    {
      "cell_type": "markdown",
      "metadata": {
        "id": "CYI53lFyx7GY"
      },
      "source": [
        "#### Create a 5x6 matrix with values ranging from 0 to 29 and retrieve the value intersecting at 2nd row and 3rd column"
      ]
    },
    {
      "cell_type": "code",
      "execution_count": null,
      "metadata": {
        "id": "R8f2DmIEx7GY",
        "outputId": "45c5185e-2bb0-4286-93f3-067c05d9cb25"
      },
      "outputs": [
        {
          "data": {
            "text/plain": [
              "8"
            ]
          },
          "execution_count": 11,
          "metadata": {},
          "output_type": "execute_result"
        }
      ],
      "source": [
        "array_matrix = np.arange(30).reshape(5,6)\n",
        "\n",
        "array_matrix[1,2]"
      ]
    },
    {
      "cell_type": "markdown",
      "metadata": {
        "id": "dLdjuikdx7GZ"
      },
      "source": [
        "#### Create an identity matrix of shape 10x10 and replace the 0's with the value 21"
      ]
    },
    {
      "cell_type": "code",
      "source": [
        "import numpy as np\n",
        "arr=np.eye(10)\n",
        "arr"
      ],
      "metadata": {
        "colab": {
          "base_uri": "https://localhost:8080/"
        },
        "id": "W1aILbI-x-Yy",
        "outputId": "926925e1-afa0-4574-a5db-5903ba3b1a82"
      },
      "execution_count": null,
      "outputs": [
        {
          "output_type": "execute_result",
          "data": {
            "text/plain": [
              "array([[1., 0., 0., 0., 0., 0., 0., 0., 0., 0.],\n",
              "       [0., 1., 0., 0., 0., 0., 0., 0., 0., 0.],\n",
              "       [0., 0., 1., 0., 0., 0., 0., 0., 0., 0.],\n",
              "       [0., 0., 0., 1., 0., 0., 0., 0., 0., 0.],\n",
              "       [0., 0., 0., 0., 1., 0., 0., 0., 0., 0.],\n",
              "       [0., 0., 0., 0., 0., 1., 0., 0., 0., 0.],\n",
              "       [0., 0., 0., 0., 0., 0., 1., 0., 0., 0.],\n",
              "       [0., 0., 0., 0., 0., 0., 0., 1., 0., 0.],\n",
              "       [0., 0., 0., 0., 0., 0., 0., 0., 1., 0.],\n",
              "       [0., 0., 0., 0., 0., 0., 0., 0., 0., 1.]])"
            ]
          },
          "metadata": {},
          "execution_count": 1
        }
      ]
    },
    {
      "cell_type": "code",
      "execution_count": null,
      "metadata": {
        "id": "L1bLr6r_x7GZ",
        "outputId": "698a415f-faaf-447a-e111-7bf0515adfe1"
      },
      "outputs": [
        {
          "data": {
            "text/plain": [
              "array([[  1.,  21.,  21.,  21.,  21.,  21.,  21.,  21.,  21.,  21.],\n",
              "       [ 21.,   1.,  21.,  21.,  21.,  21.,  21.,  21.,  21.,  21.],\n",
              "       [ 21.,  21.,   1.,  21.,  21.,  21.,  21.,  21.,  21.,  21.],\n",
              "       [ 21.,  21.,  21.,   1.,  21.,  21.,  21.,  21.,  21.,  21.],\n",
              "       [ 21.,  21.,  21.,  21.,   1.,  21.,  21.,  21.,  21.,  21.],\n",
              "       [ 21.,  21.,  21.,  21.,  21.,   1.,  21.,  21.,  21.,  21.],\n",
              "       [ 21.,  21.,  21.,  21.,  21.,  21.,   1.,  21.,  21.,  21.],\n",
              "       [ 21.,  21.,  21.,  21.,  21.,  21.,  21.,   1.,  21.,  21.],\n",
              "       [ 21.,  21.,  21.,  21.,  21.,  21.,  21.,  21.,   1.,  21.],\n",
              "       [ 21.,  21.,  21.,  21.,  21.,  21.,  21.,  21.,  21.,   1.]])"
            ]
          },
          "execution_count": 13,
          "metadata": {},
          "output_type": "execute_result"
        }
      ],
      "source": [
        "arr = np.eye(10)\n",
        "\n",
        "arr[arr == 0] = 21\n",
        "\n",
        "arr"
      ]
    },
    {
      "cell_type": "markdown",
      "metadata": {
        "id": "HfTTXf_-x7GZ"
      },
      "source": [
        "#### Use NumPy to generate a random set of 10 numbers between 0 and 1\n",
        "\n",
        "#### Display a boolean array output where all values > 0.2 are True, rest are marked as False"
      ]
    },
    {
      "cell_type": "code",
      "source": [
        "ar=np.random.rand(10)\n",
        "ar"
      ],
      "metadata": {
        "id": "7PXtKG_Uz-ed",
        "outputId": "21881775-1a0c-4b12-a027-a66fca88b742",
        "colab": {
          "base_uri": "https://localhost:8080/"
        }
      },
      "execution_count": null,
      "outputs": [
        {
          "output_type": "execute_result",
          "data": {
            "text/plain": [
              "array([0.19612519, 0.2487706 , 0.31815848, 0.51390489, 0.27982651,\n",
              "       0.50496073, 0.73278376, 0.26620777, 0.34959142, 0.98706939])"
            ]
          },
          "metadata": {},
          "execution_count": 2
        }
      ]
    },
    {
      "cell_type": "code",
      "execution_count": null,
      "metadata": {
        "id": "h7OmlpsFx7GZ",
        "outputId": "9a0ccffc-345a-4709-cffd-c3d4e0ea18f0"
      },
      "outputs": [
        {
          "data": {
            "text/plain": [
              "array([False,  True,  True,  True,  True, False,  True, False,  True,  True], dtype=bool)"
            ]
          },
          "execution_count": 14,
          "metadata": {},
          "output_type": "execute_result"
        }
      ],
      "source": [
        "ar = np.random.rand(10)\n",
        "\n",
        "ar>0.2"
      ]
    },
    {
      "cell_type": "markdown",
      "metadata": {
        "id": "bz8YC3sTx7Ga"
      },
      "source": [
        "#### Use NumPy to generate an array matrix of 5x2 random numbers sampled from a standard normal distribution"
      ]
    },
    {
      "cell_type": "code",
      "execution_count": null,
      "metadata": {
        "id": "JTFY3A7ox7Ga",
        "outputId": "51f659f7-9a22-4367-fbb5-08f14c04668e"
      },
      "outputs": [
        {
          "data": {
            "text/plain": [
              "array([[-1.07004361, -0.54106594],\n",
              "       [ 0.05922295, -0.33106219],\n",
              "       [ 0.0268216 ,  0.23273877],\n",
              "       [-0.80636334,  0.25257233],\n",
              "       [ 0.67945485, -0.27808232]])"
            ]
          },
          "execution_count": 15,
          "metadata": {},
          "output_type": "execute_result"
        }
      ],
      "source": [
        "np.random.randn(5,2)"
      ]
    },
    {
      "cell_type": "markdown",
      "metadata": {
        "id": "CX8LDz8Fx7Gb"
      },
      "source": [
        "#### Create an array of 30 linearly spaced points between 0 and 100:"
      ]
    },
    {
      "cell_type": "code",
      "execution_count": null,
      "metadata": {
        "id": "0v1LokJMx7Gb",
        "outputId": "185a30b5-7c18-403a-f8ab-114b8f987ee5"
      },
      "outputs": [
        {
          "data": {
            "text/plain": [
              "array([   0.        ,    3.44827586,    6.89655172,   10.34482759,\n",
              "         13.79310345,   17.24137931,   20.68965517,   24.13793103,\n",
              "         27.5862069 ,   31.03448276,   34.48275862,   37.93103448,\n",
              "         41.37931034,   44.82758621,   48.27586207,   51.72413793,\n",
              "         55.17241379,   58.62068966,   62.06896552,   65.51724138,\n",
              "         68.96551724,   72.4137931 ,   75.86206897,   79.31034483,\n",
              "         82.75862069,   86.20689655,   89.65517241,   93.10344828,\n",
              "         96.55172414,  100.        ])"
            ]
          },
          "execution_count": 56,
          "metadata": {},
          "output_type": "execute_result"
        }
      ],
      "source": [
        "np.linspace(0,100,30)"
      ]
    },
    {
      "cell_type": "markdown",
      "metadata": {
        "id": "34pTb7Mcx7Gb"
      },
      "source": [
        "## Numpy Indexing and Selections\n",
        "\n",
        "Using the below given Matrix, generate the output for the below questions"
      ]
    },
    {
      "cell_type": "code",
      "execution_count": null,
      "metadata": {
        "id": "uWkUaekux7Gb",
        "outputId": "8af9094b-989f-4471-f839-4065b87052b8"
      },
      "outputs": [
        {
          "data": {
            "text/plain": [
              "array([[  1,   2,   3,   4,   5,   6,   7,   8,   9,  10],\n",
              "       [ 11,  12,  13,  14,  15,  16,  17,  18,  19,  20],\n",
              "       [ 21,  22,  23,  24,  25,  26,  27,  28,  29,  30],\n",
              "       [ 31,  32,  33,  34,  35,  36,  37,  38,  39,  40],\n",
              "       [ 41,  42,  43,  44,  45,  46,  47,  48,  49,  50],\n",
              "       [ 51,  52,  53,  54,  55,  56,  57,  58,  59,  60],\n",
              "       [ 61,  62,  63,  64,  65,  66,  67,  68,  69,  70],\n",
              "       [ 71,  72,  73,  74,  75,  76,  77,  78,  79,  80],\n",
              "       [ 81,  82,  83,  84,  85,  86,  87,  88,  89,  90],\n",
              "       [ 91,  92,  93,  94,  95,  96,  97,  98,  99, 100]])"
            ]
          },
          "execution_count": 16,
          "metadata": {},
          "output_type": "execute_result"
        }
      ],
      "source": [
        "simple_matrix = np.arange(1,101).reshape(10,10)\n",
        "simple_matrix"
      ]
    },
    {
      "cell_type": "markdown",
      "metadata": {
        "collapsed": true,
        "id": "AQJUkQv5x7Gb"
      },
      "source": [
        "#### a) Retrieve the last 2 rows and first 3 column values of the above matrix using index & selection technique"
      ]
    },
    {
      "cell_type": "code",
      "execution_count": null,
      "metadata": {
        "id": "NtViu01lx7Gb",
        "outputId": "4186ec3d-994c-4334-e1f6-f279200fa87a"
      },
      "outputs": [
        {
          "data": {
            "text/plain": [
              "array([[81, 82, 83],\n",
              "       [91, 92, 93]])"
            ]
          },
          "execution_count": 17,
          "metadata": {},
          "output_type": "execute_result"
        }
      ],
      "source": [
        "simple_matrix[8:,0:3]"
      ]
    },
    {
      "cell_type": "markdown",
      "metadata": {
        "collapsed": true,
        "id": "hTCbXTrzx7Gc"
      },
      "source": [
        "#### b) Retrieve the value 55 from the above matrix using index & selection technique"
      ]
    },
    {
      "cell_type": "code",
      "execution_count": null,
      "metadata": {
        "id": "nkJ48dgax7Gc",
        "outputId": "1a820da4-ae14-4a48-8ce1-eaabd0a51508"
      },
      "outputs": [
        {
          "data": {
            "text/plain": [
              "55"
            ]
          },
          "execution_count": 18,
          "metadata": {},
          "output_type": "execute_result"
        }
      ],
      "source": [
        "simple_matrix[5,4]"
      ]
    },
    {
      "cell_type": "markdown",
      "metadata": {
        "collapsed": true,
        "id": "gk2hk3Pkx7Gc"
      },
      "source": [
        "#### c) Retrieve the values from the 3rd column in the above matrix"
      ]
    },
    {
      "cell_type": "code",
      "execution_count": null,
      "metadata": {
        "id": "gQKhiN-_x7Gc",
        "outputId": "ea371d72-8388-46d5-d4de-a8594e00ec55"
      },
      "outputs": [
        {
          "data": {
            "text/plain": [
              "array([ 3, 13, 23, 33, 43, 53, 63, 73, 83, 93])"
            ]
          },
          "execution_count": 19,
          "metadata": {},
          "output_type": "execute_result"
        }
      ],
      "source": [
        "simple_matrix[:,2]"
      ]
    },
    {
      "cell_type": "markdown",
      "metadata": {
        "collapsed": true,
        "id": "fWPT2XeCx7Gc"
      },
      "source": [
        "#### d) Retrieve the values from the 4th row in the above matrix"
      ]
    },
    {
      "cell_type": "code",
      "execution_count": null,
      "metadata": {
        "id": "LlnmTW_4x7Gc",
        "outputId": "13bc5d6a-05e5-408e-f8d1-182bcef30771"
      },
      "outputs": [
        {
          "data": {
            "text/plain": [
              "array([31, 32, 33, 34, 35, 36, 37, 38, 39, 40])"
            ]
          },
          "execution_count": 20,
          "metadata": {},
          "output_type": "execute_result"
        }
      ],
      "source": [
        "simple_matrix[3,:]"
      ]
    },
    {
      "cell_type": "markdown",
      "metadata": {
        "collapsed": true,
        "id": "8HmSbD1Px7Gd"
      },
      "source": [
        "#### e) Retrieve values from the 2nd & 4th rows in the above matrix"
      ]
    },
    {
      "cell_type": "code",
      "execution_count": null,
      "metadata": {
        "id": "dI5Fgujkx7Gd",
        "outputId": "0978fa1a-1eab-463b-ea3d-164ac4a66fdc"
      },
      "outputs": [
        {
          "data": {
            "text/plain": [
              "array([[11, 12, 13, 14, 15, 16, 17, 18, 19, 20],\n",
              "       [31, 32, 33, 34, 35, 36, 37, 38, 39, 40]])"
            ]
          },
          "execution_count": 21,
          "metadata": {},
          "output_type": "execute_result"
        }
      ],
      "source": [
        "simple_matrix[(1,3),:]"
      ]
    },
    {
      "cell_type": "markdown",
      "metadata": {
        "id": "9sKF32Hsx7Gd"
      },
      "source": [
        "### Calculate the following values for the given matrix"
      ]
    },
    {
      "cell_type": "markdown",
      "metadata": {
        "id": "FjRw5lemx7Gd"
      },
      "source": [
        "#### a) Calculate sum of all the values in the matrix"
      ]
    },
    {
      "cell_type": "code",
      "execution_count": null,
      "metadata": {
        "id": "4yNf5uMox7Gi",
        "outputId": "19399c79-57c3-41b5-d504-442a5398b2d8"
      },
      "outputs": [
        {
          "data": {
            "text/plain": [
              "5050"
            ]
          },
          "execution_count": 22,
          "metadata": {},
          "output_type": "execute_result"
        }
      ],
      "source": [
        "simple_matrix.sum()"
      ]
    },
    {
      "cell_type": "markdown",
      "metadata": {
        "id": "fg39qAFNx7Gi"
      },
      "source": [
        "#### b) Calculate standard deviation of all the values in the matrix"
      ]
    },
    {
      "cell_type": "code",
      "execution_count": null,
      "metadata": {
        "id": "9ckL5mR2x7Gi",
        "outputId": "80d679bf-5af0-4f2d-b6fb-8c4466e3e972"
      },
      "outputs": [
        {
          "data": {
            "text/plain": [
              "28.866070047722118"
            ]
          },
          "execution_count": 23,
          "metadata": {},
          "output_type": "execute_result"
        }
      ],
      "source": [
        "simple_matrix.std()"
      ]
    },
    {
      "cell_type": "markdown",
      "metadata": {
        "id": "XyZy9vZgx7Gj"
      },
      "source": [
        "#### c) Calculate the variance of all values in the matrix"
      ]
    },
    {
      "cell_type": "code",
      "execution_count": null,
      "metadata": {
        "id": "xxn8sjFHx7Gk",
        "outputId": "a4229883-d49c-4b34-c00f-6294f5587e42"
      },
      "outputs": [
        {
          "data": {
            "text/plain": [
              "833.25"
            ]
          },
          "execution_count": 24,
          "metadata": {},
          "output_type": "execute_result"
        }
      ],
      "source": [
        "simple_matrix.var()"
      ]
    },
    {
      "cell_type": "markdown",
      "metadata": {
        "collapsed": true,
        "id": "A2Rt_is4x7Gk"
      },
      "source": [
        "#### d) Calculate the mean of all values in the matrix"
      ]
    },
    {
      "cell_type": "code",
      "execution_count": null,
      "metadata": {
        "id": "4eQ8D1O0x7Gl",
        "outputId": "bfbcb1eb-12d6-4656-9a13-d0f89ffcc07c"
      },
      "outputs": [
        {
          "data": {
            "text/plain": [
              "50.5"
            ]
          },
          "execution_count": 25,
          "metadata": {},
          "output_type": "execute_result"
        }
      ],
      "source": [
        "simple_matrix.mean()"
      ]
    },
    {
      "cell_type": "markdown",
      "metadata": {
        "id": "GP4-LMVtx7Gm"
      },
      "source": [
        "#### e) Retrieve the largest number from the matrix"
      ]
    },
    {
      "cell_type": "code",
      "execution_count": null,
      "metadata": {
        "id": "7IzxvicLx7Gm",
        "outputId": "fd536dde-5ba3-4456-866c-5b6df79853ec"
      },
      "outputs": [
        {
          "data": {
            "text/plain": [
              "100"
            ]
          },
          "execution_count": 26,
          "metadata": {},
          "output_type": "execute_result"
        }
      ],
      "source": [
        "simple_matrix.max()"
      ]
    },
    {
      "cell_type": "markdown",
      "metadata": {
        "id": "adv9yZOTx7Gn"
      },
      "source": [
        "#### f) Retrieve the smallest number from the matrix"
      ]
    },
    {
      "cell_type": "code",
      "execution_count": null,
      "metadata": {
        "id": "BZooxTK1x7Gn",
        "outputId": "71630617-3d23-4389-e1fc-542cca8d8bdc"
      },
      "outputs": [
        {
          "data": {
            "text/plain": [
              "1"
            ]
          },
          "execution_count": 27,
          "metadata": {},
          "output_type": "execute_result"
        }
      ],
      "source": [
        "simple_matrix.min()"
      ]
    },
    {
      "cell_type": "markdown",
      "metadata": {
        "id": "yvW2Yfc4x7Go"
      },
      "source": [
        "### End of Lab Exercise - NumPy"
      ]
    }
  ],
  "metadata": {
    "kernelspec": {
      "display_name": "Python 3",
      "language": "python",
      "name": "python3"
    },
    "language_info": {
      "codemirror_mode": {
        "name": "ipython",
        "version": 3
      },
      "file_extension": ".py",
      "mimetype": "text/x-python",
      "name": "python",
      "nbconvert_exporter": "python",
      "pygments_lexer": "ipython3",
      "version": "3.6.3"
    },
    "colab": {
      "provenance": []
    }
  },
  "nbformat": 4,
  "nbformat_minor": 0
}