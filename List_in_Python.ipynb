{
  "nbformat": 4,
  "nbformat_minor": 0,
  "metadata": {
    "colab": {
      "provenance": []
    },
    "kernelspec": {
      "name": "python3",
      "display_name": "Python 3"
    },
    "language_info": {
      "name": "python"
    }
  },
  "cells": [
    {
      "cell_type": "code",
      "execution_count": null,
      "metadata": {
        "colab": {
          "base_uri": "https://localhost:8080/"
        },
        "id": "nIRrRxIxLMDN",
        "outputId": "0209694e-94f2-491c-9a49-f345d4784a1c"
      },
      "outputs": [
        {
          "output_type": "stream",
          "name": "stdout",
          "text": [
            "Book('The Lord of the Rings', 'J.R.R. Tolkien', 'Fantasy', 1954)\n",
            "Book('Harry Potter and the Sorcerer's Stone', 'J.K. Rowling', 'Fantasy', 1997)\n",
            "The average publication year is 1965.5\n"
          ]
        }
      ],
      "source": [
        "# Design a list to store different types of books (title, author, genre, publication year). Create functions to:  Add a new book to the list. Remove a book by title or author. Print a list of all books for a specific genre. Print the average publication year of all books.**\n",
        "\n",
        "class Book:\n",
        "  def __init__(self, title, author, genre, publication_year):\n",
        "    self.title = title\n",
        "    self.author = author\n",
        "    self.genre = genre\n",
        "    self.publication_year = publication_year\n",
        "\n",
        "  def __repr__(self):\n",
        "    return f\"Book('{self.title}', '{self.author}', '{self.genre}', {self.publication_year})\"\n",
        "\n",
        "books = []\n",
        "\n",
        "def add_book(title, author, genre, publication_year):\n",
        "  book = Book(title, author, genre, publication_year)\n",
        "  books.append(book)\n",
        "\n",
        "def remove_book(title_or_author):\n",
        "  for book in books:\n",
        "    if book.title == title_or_author or book.author == title_or_author:\n",
        "      books.remove(book)\n",
        "\n",
        "def print_books_by_genre(genre):\n",
        "  for book in books:\n",
        "    if book.genre == genre:\n",
        "      print(book)\n",
        "\n",
        "def print_average_publication_year():\n",
        "  total_publication_year = 0\n",
        "  for book in books:\n",
        "    total_publication_year += book.publication_year\n",
        "  average_publication_year = total_publication_year / len(books)\n",
        "  print(f\"The average publication year is {average_publication_year}\")\n",
        "\n",
        "add_book(\"The Lord of the Rings\", \"J.R.R. Tolkien\", \"Fantasy\", 1954)\n",
        "add_book(\"Harry Potter and the Sorcerer's Stone\", \"J.K. Rowling\", \"Fantasy\", 1997)\n",
        "add_book(\"The Da Vinci Code\", \"Dan Brown\", \"Thriller\", 2003)\n",
        "add_book(\"The Catcher in the Rye\", \"J.D. Salinger\", \"Coming-of-age\", 1951)\n",
        "add_book(\"To Kill a Mockingbird\", \"Harper Lee\", \"Drama\", 1960)\n",
        "\n",
        "remove_book(\"The Da Vinci Code\")\n",
        "\n",
        "print_books_by_genre(\"Fantasy\")\n",
        "\n",
        "print_average_publication_year()\n"
      ]
    },
    {
      "cell_type": "code",
      "source": [
        "# Missing Number: Given a list of consecutive integers with one missing number, write a program that finds and displays the missing number.\n",
        "\n",
        "def find_missing_number(nums):\n",
        "  expected_sum = (len(nums) + 1) * (len(nums) + 2) // 2\n",
        "  actual_sum = sum(nums)\n",
        "  return expected_sum - actual_sum\n",
        "\n",
        "print(find_missing_number([1, 2, 3, 5]))\n"
      ],
      "metadata": {
        "colab": {
          "base_uri": "https://localhost:8080/"
        },
        "id": "9DEEcCreLUD1",
        "outputId": "8cf7b6ef-280c-4c30-d185-546111e77cd7"
      },
      "execution_count": null,
      "outputs": [
        {
          "output_type": "stream",
          "name": "stdout",
          "text": [
            "4\n"
          ]
        }
      ]
    },
    {
      "cell_type": "code",
      "source": [
        "# Design a list to store grocery items (name, price, quantity). Create functions to:  Calculate the total cost of all items. Find the most expensive item. Sort the list by price in ascending or descending order\n",
        "\n",
        "grocery_list = []\n",
        "\n",
        "def add_item(name, price, quantity):\n",
        "  grocery_list.append([name, price, quantity])\n",
        "\n",
        "def calculate_total_cost():\n",
        "  total_cost = 0\n",
        "  for item in grocery_list:\n",
        "    total_cost += item[1] * item[2]\n",
        "  return total_cost\n",
        "\n",
        "def find_most_expensive_item():\n",
        "  most_expensive_item = grocery_list[0]\n",
        "  for item in grocery_list:\n",
        "    if item[1] > most_expensive_item[1]:\n",
        "      most_expensive_item = item\n",
        "  return most_expensive_item\n",
        "\n",
        "def sort_list_by_price(ascending):\n",
        "  grocery_list.sort(key=lambda x: x[1], reverse=ascending)\n",
        "\n",
        "add_item(\"Milk\", 3.00, 1)\n",
        "add_item(\"Bread\", 2.50, 2)\n",
        "add_item(\"Eggs\", 1.50, 3)\n",
        "\n",
        "print(calculate_total_cost())\n",
        "print(find_most_expensive_item())\n",
        "sort_list_by_price(True)\n",
        "print(grocery_list)\n"
      ],
      "metadata": {
        "colab": {
          "base_uri": "https://localhost:8080/"
        },
        "id": "IqPfS7V-Ods-",
        "outputId": "7353cb53-d67b-43dd-eb8d-b515e003e772"
      },
      "execution_count": null,
      "outputs": [
        {
          "output_type": "stream",
          "name": "stdout",
          "text": [
            "12.5\n",
            "['Milk', 3.0, 1]\n",
            "[['Milk', 3.0, 1], ['Bread', 2.5, 2], ['Eggs', 1.5, 3]]\n"
          ]
        }
      ]
    },
    {
      "cell_type": "code",
      "source": [
        "#Basic Questions on List\n",
        "#Create List of Grocery Items\n",
        "List1 = ['Milk','Butter','Bread','Cookies']\n",
        "#Add one more Item if remaining\n",
        "List2 = input(\"Enter Remaining Items\")\n",
        "List2 = List2.split()\n",
        "List1.extend(List2)\n",
        "print(List1)"
      ],
      "metadata": {
        "colab": {
          "base_uri": "https://localhost:8080/"
        },
        "id": "aAksLkLzRIBW",
        "outputId": "c31a0b8d-e140-4aa6-f7b5-9f3e746df9db"
      },
      "execution_count": null,
      "outputs": [
        {
          "output_type": "stream",
          "name": "stdout",
          "text": [
            "Enter Remaining ItemsPasta yogurt oatmeal\n",
            "['Milk', 'Butter', 'Bread', 'Cookies', 'Pasta', 'yogurt', 'oatmeal']\n"
          ]
        }
      ]
    },
    {
      "cell_type": "code",
      "source": [],
      "metadata": {
        "id": "VjKOlvLNV-KJ"
      },
      "execution_count": null,
      "outputs": []
    },
    {
      "cell_type": "code",
      "source": [
        "# Design a list to store bank transactions (date, amount, type). Create functions to:  Calculate the balance after each transaction. Generate a monthly statement showing income and expenses. Identify any potential fraudulent transactions.**\n",
        "\n",
        "class Transaction:\n",
        "  def __init__(self, date, amount, type):\n",
        "    self.date = date\n",
        "    self.amount = amount\n",
        "    self.type = type\n",
        "\n",
        "  def __repr__(self):\n",
        "    return f\"Transaction('{self.date}', {self.amount}, '{self.type}')\"\n",
        "\n",
        "transactions = []\n",
        "\n",
        "def add_transaction(date, amount, type):\n",
        "  transaction = Transaction(date, amount, type)\n",
        "  transactions.append(transaction)\n",
        "\n",
        "def calculate_balance():\n",
        "  balance = 0\n",
        "  for transaction in transactions:\n",
        "    if transaction.type == \"income\":\n",
        "      balance += transaction.amount\n",
        "    else:\n",
        "      balance -= transaction.amount\n",
        "  return balance\n",
        "\n",
        "def generate_monthly_statement():\n",
        "  income = 0\n",
        "  expenses = 0\n",
        "  for transaction in transactions:\n",
        "    if transaction.type == \"income\":\n",
        "      income += transaction.amount\n",
        "    else:\n",
        "      expenses += transaction.amount\n",
        "  print(f\"Income: {income}\")\n",
        "  print(f\"Expenses: {expenses}\")\n",
        "  print(f\"Balance: {calculate_balance()}\")\n",
        "\n",
        "add_transaction(\"2023-01-01\", 1000, \"income\")\n",
        "add_transaction(\"2023-01-02\", 500, \"expense\")\n",
        "add_transaction(\"2023-01-03\", 250, \"income\")\n",
        "add_transaction(\"2023-01-04\", 150, \"expense\")\n",
        "\n",
        "calculate_balance()\n",
        "generate_monthly_statement()\n"
      ],
      "metadata": {
        "colab": {
          "base_uri": "https://localhost:8080/"
        },
        "id": "kLT-eHR8S8z6",
        "outputId": "d451275c-ca8b-459c-9938-cd21be72d948"
      },
      "execution_count": null,
      "outputs": [
        {
          "output_type": "stream",
          "name": "stdout",
          "text": [
            "Income: 1250\n",
            "Expenses: 650\n",
            "Balance: 600\n"
          ]
        }
      ]
    },
    {
      "cell_type": "code",
      "source": [
        "def calculate_percentages(marks):\n",
        "  \"\"\"\n",
        "  Calculates percentage for each subject in a list of marks.\n",
        "\n",
        "  Args:\n",
        "    marks: A list of integers representing marks in each subject.\n",
        "\n",
        "  Returns:\n",
        "    A list of floats representing the corresponding percentages.\n",
        "  \"\"\"\n",
        "  total_marks = sum(marks)\n",
        "  percentages = [mark / total_marks * 100 for mark in marks]\n",
        "  return percentages\n",
        "\n",
        "# Example usage\n",
        "marks = [75, 88, 92, 67]\n",
        "percentages = calculate_percentages(marks)\n",
        "\n",
        "print(f\"Marks: {marks}\")\n",
        "print(f\"Percentages: {percentages}\")\n"
      ],
      "metadata": {
        "colab": {
          "base_uri": "https://localhost:8080/"
        },
        "id": "X5FBxytEV5ez",
        "outputId": "d2349d18-c686-4472-bbf3-eb52d5e0a32e"
      },
      "execution_count": null,
      "outputs": [
        {
          "output_type": "stream",
          "name": "stdout",
          "text": [
            "Marks: [75, 88, 92, 67]\n",
            "Percentages: [23.29192546583851, 27.32919254658385, 28.57142857142857, 20.80745341614907]\n"
          ]
        }
      ]
    },
    {
      "cell_type": "code",
      "source": [
        "# Frequency Counter: Write a program that takes a list of integers from the user and calculates the frequency of each number appearing in the list. Display the number and its corresponding frequency for each unique element.\n",
        "\n",
        "# Get a list of integers from the user\n",
        "numbers = [int(x) for x in input(\"Enter a list of integers: \").split()]\n",
        "\n",
        "# Create a dictionary to store the frequency of each number\n",
        "frequency_dict = {}\n",
        "for number in numbers:\n",
        "  if number not in frequency_dict:\n",
        "    frequency_dict[number] = 0\n",
        "  frequency_dict[number] += 1\n",
        "\n",
        "# Display the number and its corresponding frequency for each unique element\n",
        "for number, frequency in frequency_dict.items():\n",
        "  print(f\"{number}: {frequency}\")\n"
      ],
      "metadata": {
        "id": "DpjWaCtkW8dD",
        "colab": {
          "base_uri": "https://localhost:8080/"
        },
        "outputId": "b9a03d98-0e8f-4eb0-fc62-1c254cf0321b"
      },
      "execution_count": null,
      "outputs": [
        {
          "output_type": "stream",
          "name": "stdout",
          "text": [
            "Enter a list of integers: 3 4 6 3 2 6  7\n",
            "3: 2\n",
            "4: 1\n",
            "6: 2\n",
            "2: 1\n",
            "7: 1\n"
          ]
        }
      ]
    },
    {
      "cell_type": "code",
      "source": [
        "# Sum of Even or Odd Numbers: Ask the user for a list of integers and choose either even or odd numbers. Write a program that calculates the sum of all the chosen numbers in the list.\n",
        "\n",
        "numbers = [int(x) for x in input(\"Enter a list of integers: \").split()]\n",
        "\n",
        "# Get the choice from the user\n",
        "choice = input(\"Choose even or odd: \")\n",
        "\n",
        "# Calculate the sum of even or odd numbers\n",
        "if choice == \"even\":\n",
        "  sum_even = 0\n",
        "  for number in numbers:\n",
        "    if number % 2 == 0:\n",
        "      sum_even += number\n",
        "  print(f\"The sum of even numbers is: {sum_even}\")\n",
        "elif choice == \"odd\":\n",
        "  sum_odd = 0\n",
        "  for number in numbers:\n",
        "    if number % 2 != 0:\n",
        "      sum_odd += number\n",
        "  print(f\"The sum of odd numbers is: {sum_odd}\")\n",
        "else:\n",
        "  print(\"Invalid choice.\")"
      ],
      "metadata": {
        "colab": {
          "base_uri": "https://localhost:8080/"
        },
        "id": "avpbrDu0YBwW",
        "outputId": "2e9366bd-0ce4-4fe0-870f-10235f65f49c"
      },
      "execution_count": null,
      "outputs": [
        {
          "output_type": "stream",
          "name": "stdout",
          "text": [
            "Enter a list of integers: 67 54 23 89 53 12 334\n",
            "Choose even or odd: odd\n",
            "The sum of odd numbers is: 232\n"
          ]
        }
      ]
    },
    {
      "cell_type": "code",
      "source": [],
      "metadata": {
        "id": "psUA4wgqWvry"
      },
      "execution_count": null,
      "outputs": []
    }
  ]
}