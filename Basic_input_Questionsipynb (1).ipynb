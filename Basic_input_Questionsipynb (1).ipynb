{
  "nbformat": 4,
  "nbformat_minor": 0,
  "metadata": {
    "colab": {
      "provenance": []
    },
    "kernelspec": {
      "name": "python3",
      "display_name": "Python 3"
    },
    "language_info": {
      "name": "python"
    }
  },
  "cells": [
    {
      "cell_type": "code",
      "execution_count": null,
      "metadata": {
        "colab": {
          "base_uri": "https://localhost:8080/"
        },
        "id": "djjN9TMDsOke",
        "outputId": "707438c1-4ec0-46ff-c80a-0f7d2e9086b4"
      },
      "outputs": [
        {
          "output_type": "stream",
          "name": "stdout",
          "text": [
            "My name is John Doe. I am 30 years old and live in New York City.\n"
          ]
        }
      ],
      "source": [
        "# Create three variables: name, age, and city. Assign your own name, age, and city to these variables. Then, write a Python program to print out a sentence like \"My name is [name]. I am [age] years old and live in [city].\"\n",
        "\n",
        "name = \"John Doe\"\n",
        "age = 30\n",
        "city = \"New York City\"\n",
        "print(f\"My name is {name}. I am {age} years old and live in {city}.\")\n"
      ]
    },
    {
      "cell_type": "code",
      "source": [
        "# Create three variables: name, age, and city. Assign your own name, age, and city to these variables. Then, write a Python program to print out a sentence like \"My name is [name]. I am [age] years old and live in [city].\"                                  this is assignment for student I have to create same assignment but in 3 difficulty levels  suggest me more such assignments\n",
        "\n",
        "name = input(\"Enter your name: \")\n",
        "age = int(input(\"Enter your age: \"))\n",
        "city = input(\"Enter your city: \")\n",
        "\n",
        "print(f\"My name is {name}. I am {age} years old and live in {city}.\")\n"
      ],
      "metadata": {
        "id": "CRMVZl06sxY6"
      },
      "execution_count": null,
      "outputs": []
    },
    {
      "cell_type": "code",
      "source": [
        "#Create three variables: name, age, and city. Assign your own name, age, and city to these variables. Then, write a Python program to print out a sentence like \"My name is [name]. I am [age] years old and live in [city].\"                                  this is assignment for student I have to create same assignment but  make it more difficult suggest me more such assignments\n",
        "\n",
        "name = \"John Doe\"\n",
        "age = 30\n",
        "city = \"New York City\"\n",
        "print(f\"My name is {name}. I am {age} years old and live in {city}.\")\n",
        "\n",
        "\n",
        "name = input(\"Enter your name: \")\n",
        "age = int(input(\"Enter your age: \"))\n",
        "city = input(\"Enter your city: \")\n",
        "\n",
        "print(f\"My name is {name}. I am {age} years old and live in {city}.\")\n"
      ],
      "metadata": {
        "colab": {
          "base_uri": "https://localhost:8080/"
        },
        "id": "63Q9s-9OtPdu",
        "outputId": "3e745004-91f3-470d-b3b3-ce9943d81bf3"
      },
      "execution_count": null,
      "outputs": [
        {
          "output_type": "stream",
          "name": "stdout",
          "text": [
            "My name is John Doe. I am 30 years old and live in New York City.\n",
            "Enter your name: payal\n",
            "Enter your age: 21\n",
            "Enter your city: Pune\n",
            "My name is payal. I am 21 years old and live in Pune.\n"
          ]
        }
      ]
    },
    {
      "cell_type": "code",
      "source": [],
      "metadata": {
        "id": "8HGIJXlWtXS_"
      },
      "execution_count": null,
      "outputs": []
    },
    {
      "cell_type": "markdown",
      "source": [
        "Assignment - 2 Inputs and Operators\n",
        "Topic - Tree Planting Program"
      ],
      "metadata": {
        "id": "3HzoOGyhu0cF"
      }
    },
    {
      "cell_type": "markdown",
      "source": [
        "Basic"
      ],
      "metadata": {
        "id": "VUOdLemFvwg5"
      }
    },
    {
      "cell_type": "code",
      "source": [
        "# Get number of trees planted\n",
        "num_trees_planted = int(input(\"How many trees did you plant today? \"))\n",
        "\n",
        "# Display a message acknowledging the effort\n",
        "print(\"Thank you for planting\", num_trees_planted, \"trees! You're helping to make our planet greener.\")\n"
      ],
      "metadata": {
        "colab": {
          "base_uri": "https://localhost:8080/"
        },
        "id": "9pBsjUe9uzeX",
        "outputId": "24764b08-c4e9-4aba-b253-90bc442c962d"
      },
      "execution_count": null,
      "outputs": [
        {
          "output_type": "stream",
          "name": "stdout",
          "text": [
            "How many trees did you plant today? 50\n",
            "Thank you for planting 50 trees! You're helping to make our planet greener.\n"
          ]
        }
      ]
    },
    {
      "cell_type": "markdown",
      "source": [
        "Level 2(Intermediate)"
      ],
      "metadata": {
        "id": "fvOYp2x9v0TA"
      }
    },
    {
      "cell_type": "code",
      "source": [
        "# Get number of trees planted\n",
        "num_trees_planted = int(input(\"How many trees did you plant today? \"))\n",
        "\n",
        "# Calculate the carbon dioxide absorbed based on a fixed value per tree\n",
        "co2_absorbed_per_tree = 48  # Assumed average annual CO2 absorption per tree\n",
        "total_co2_absorbed = num_trees_planted * co2_absorbed_per_tree\n",
        "\n",
        "# Display a message highlighting the environmental impact\n",
        "print(\"Your effort in planting\", num_trees_planted, \"trees will help remove\", total_co2_absorbed, \"kg of CO2 from the atmosphere each year!\")\n"
      ],
      "metadata": {
        "colab": {
          "base_uri": "https://localhost:8080/"
        },
        "id": "yZpb_fOEvpe3",
        "outputId": "7f9d58ce-83a2-4068-fc60-3843154c74f0"
      },
      "execution_count": null,
      "outputs": [
        {
          "output_type": "stream",
          "name": "stdout",
          "text": [
            "How many trees did you plant today? 20\n",
            "Your effort in planting 20 trees will help remove 960 kg of CO2 from the atmosphere each year!\n"
          ]
        }
      ]
    },
    {
      "cell_type": "markdown",
      "source": [
        "Level 3 (Advance) Calculator"
      ],
      "metadata": {
        "id": "N6Oz3oxDwDj2"
      }
    },
    {
      "cell_type": "code",
      "source": [
        "while True:\n",
        "  # Get user input for numbers and operators\n",
        "  num1 = float(input(\"Enter the first number: \"))\n",
        "  operator = input(\"Enter the operator (+, -, *, /): \")\n",
        "  num2 = float(input(\"Enter the second number: \"))\n",
        "\n",
        "  # Validate operator\n",
        "  if operator not in [\"+\", \"-\", \"*\", \"/\"]:\n",
        "    print(\"Invalid operator. Please enter a valid operator (+, -, *, /).\")\n",
        "    continue\n",
        "\n",
        "  # Calculate based on operator\n",
        "  if operator == \"+\":\n",
        "    result = num1 + num2\n",
        "  elif operator == \"-\":\n",
        "    result = num1 - num2\n",
        "  elif operator == \"*\":\n",
        "    result = num1 * num2\n",
        "  else:\n",
        "    # Check for division by zero\n",
        "    if num2 == 0:\n",
        "      print(\"Division by zero is not allowed.\")\n",
        "      continue\n",
        "    else:\n",
        "      result = num1 / num2\n",
        "\n",
        "  # Display result\n",
        "  print(f\"{num1} {operator} {num2} = {result}\")\n",
        "\n",
        "  # Repeat or exit\n",
        "  repeat = input(\"Do you want to continue (Y/N)? \").lower()\n",
        "  if repeat not in [\"y\", \"yes\"]:\n",
        "    break\n"
      ],
      "metadata": {
        "colab": {
          "base_uri": "https://localhost:8080/"
        },
        "id": "-wGvwaAawGmA",
        "outputId": "6093ddaf-3c6e-4885-af7a-83d1f9f7c95c"
      },
      "execution_count": null,
      "outputs": [
        {
          "name": "stdout",
          "output_type": "stream",
          "text": [
            "Enter the first number: 67890\n",
            "Enter the operator (+, -, *, /): +\n",
            "Enter the second number: 3456\n",
            "67890.0 + 3456.0 = 71346.0\n",
            "Do you want to continue (Y/N)? N\n"
          ]
        }
      ]
    },
    {
      "cell_type": "markdown",
      "source": [
        "You are given two floating numbers a and b. You need to output a/b and decimal precision of a/b upto 3 places after decimal point\n",
        "\n"
      ],
      "metadata": {
        "id": "wU9-7hO9zxGJ"
      }
    },
    {
      "cell_type": "code",
      "source": [],
      "metadata": {
        "id": "QHUr3K33zt6C"
      },
      "execution_count": null,
      "outputs": []
    }
  ]
}